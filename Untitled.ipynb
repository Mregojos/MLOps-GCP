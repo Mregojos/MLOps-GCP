{
 "cells": [
  {
   "cell_type": "markdown",
   "id": "273c441d-44de-4ea8-acdc-08d80751e9e7",
   "metadata": {},
   "source": [
    "# MLOps on GCP (Project)"
   ]
  },
  {
   "cell_type": "code",
   "execution_count": null,
   "id": "59b1aeba-f610-4973-86c7-7e6dd0ae20bc",
   "metadata": {},
   "outputs": [],
   "source": []
  }
 ],
 "metadata": {
  "environment": {
   "kernel": "python3",
   "name": "tf2-cpu.2-11.m112",
   "type": "gcloud",
   "uri": "gcr.io/deeplearning-platform-release/tf2-cpu.2-11:m112"
  },
  "kernelspec": {
   "display_name": "Python 3",
   "language": "python",
   "name": "python3"
  },
  "language_info": {
   "codemirror_mode": {
    "name": "ipython",
    "version": 3
   },
   "file_extension": ".py",
   "mimetype": "text/x-python",
   "name": "python",
   "nbconvert_exporter": "python",
   "pygments_lexer": "ipython3",
   "version": "3.10.12"
  }
 },
 "nbformat": 4,
 "nbformat_minor": 5
}
